{
 "cells": [
  {
   "cell_type": "code",
   "execution_count": 95,
   "metadata": {},
   "outputs": [],
   "source": [
    "import numpy as np\n",
    "import cv2\n",
    "import os\n",
    "from os import listdir\n",
    "import json\n",
    "from tqdm import tqdm\n",
    "from PIL import Image\n",
    "import shutil"
   ]
  },
  {
   "cell_type": "code",
   "execution_count": 96,
   "metadata": {},
   "outputs": [],
   "source": [
    "data_dir = '../../DATA/endoscopy/Depth_2208/'\n",
    "output_dir = './dataset/endoscopy/'\n",
    "\n",
    "os.makedirs(output_dir, exist_ok=True)\n",
    "\n",
    "train_rgb_dir =  [f for f in os.listdir(data_dir + 'Train/Images/') if f.endswith(('.png', '.jpg'))] \n",
    "train_depth_dir = [f for f in os.listdir(data_dir + 'Train/Depth/') if f.endswith(('.png', '.jpg'))] \n",
    "test_rgb_dir = [f for f in os.listdir(data_dir + 'Test/Images/') if f.endswith(('.png', '.jpg'))] \n",
    "test_depth_dir = [f for f in os.listdir(data_dir + 'Test/Depth/') if f.endswith(('.png', '.jpg'))] "
   ]
  },
  {
   "cell_type": "code",
   "execution_count": 97,
   "metadata": {},
   "outputs": [],
   "source": [
    "def rename_file(rgb_dir, depth_dir, output_dir, data_type):\n",
    "    print(len(rgb_dir))\n",
    "    print(len(depth_dir))\n",
    "    assert len(rgb_dir) == len(depth_dir), 'rgb not equal to depth'\n",
    "    os.makedirs(f\"{output_dir}{data_type}rgb/\", exist_ok=True)\n",
    "    os.makedirs(f\"{output_dir}{data_type}depth/\", exist_ok=True)\n",
    "    for idx, (rgb, depth) in enumerate(zip(sorted(rgb_dir), sorted(depth_dir))):\n",
    "        if (rgb[:12] == depth[:12]):\n",
    "            rgb_path =  f\"{data_dir}{data_type}Images/{rgb}\"\n",
    "            dpeth_path =  f\"{data_dir}{data_type}Depth/{depth}\"\n",
    "            new_rgb_path =  f\"{output_dir}{data_type}rgb/{idx}{rgb[-4:]}\"\n",
    "            new_dpeth_path =  f\"{output_dir}{data_type}depth/{idx}{rgb[-4:]}\"\n",
    "            shutil.copy2(rgb_path,new_rgb_path)\n",
    "            shutil.copy2(dpeth_path,new_dpeth_path)"
   ]
  },
  {
   "cell_type": "code",
   "execution_count": 99,
   "metadata": {},
   "outputs": [
    {
     "name": "stdout",
     "output_type": "stream",
     "text": [
      "545\n",
      "545\n"
     ]
    }
   ],
   "source": [
    "rename_file(train_rgb_dir, train_depth_dir, output_dir, 'Train/')\n",
    "rename_file(test_rgb_dir, test_depth_dir, output_dir, 'Test/')"
   ]
  },
  {
   "cell_type": "code",
   "execution_count": null,
   "metadata": {},
   "outputs": [],
   "source": []
  },
  {
   "cell_type": "code",
   "execution_count": null,
   "metadata": {},
   "outputs": [],
   "source": []
  }
 ],
 "metadata": {
  "kernelspec": {
   "display_name": "Python 3",
   "language": "python",
   "name": "python3"
  },
  "language_info": {
   "codemirror_mode": {
    "name": "ipython",
    "version": 3
   },
   "file_extension": ".py",
   "mimetype": "text/x-python",
   "name": "python",
   "nbconvert_exporter": "python",
   "pygments_lexer": "ipython3",
   "version": "3.7.7"
  }
 },
 "nbformat": 4,
 "nbformat_minor": 4
}
